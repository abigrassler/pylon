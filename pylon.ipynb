{
 "cells": [
  {
   "cell_type": "code",
   "execution_count": 5,
   "id": "11817947",
   "metadata": {},
   "outputs": [],
   "source": [
    "import pypylon.pylon as py\n",
    "import matplotlib.pyplot as plt\n",
    "import numpy as np\n",
    "import cv2"
   ]
  },
  {
   "cell_type": "code",
   "execution_count": null,
   "id": "ecac35ac",
   "metadata": {},
   "outputs": [
    {
     "data": {
      "text/plain": [
       "<pypylon.pylon.TlFactory; proxy of <Swig Object of type 'Pylon::CTlFactory *' at 0x000001B93DB33750> >"
      ]
     },
     "execution_count": 10,
     "metadata": {},
     "output_type": "execute_result"
    }
   ],
   "source": [
    "tlf = py.TlFactory.GetInstance() # I think this is a matter of getting the connection set up \n",
    "tlf"
   ]
  },
  {
   "cell_type": "code",
   "execution_count": null,
   "id": "5ab97d90",
   "metadata": {},
   "outputs": [
    {
     "data": {
      "text/plain": [
       "(<pypylon.pylon.DeviceInfo; proxy of <Swig Object of type 'Pylon::CDeviceInfo *' at 0x000001B939ECA340> >,\n",
       " <pypylon.pylon.DeviceInfo; proxy of <Swig Object of type 'Pylon::CDeviceInfo *' at 0x000001B93DB58C00> >,\n",
       " <pypylon.pylon.DeviceInfo; proxy of <Swig Object of type 'Pylon::CDeviceInfo *' at 0x000001B93DB58210> >,\n",
       " <pypylon.pylon.DeviceInfo; proxy of <Swig Object of type 'Pylon::CDeviceInfo *' at 0x000001B93DB5B900> >)"
      ]
     },
     "execution_count": 12,
     "metadata": {},
     "output_type": "execute_result"
    }
   ],
   "source": [
    "devices = tlf.EnumerateDevices() # And here the devices are actually discovered \n",
    "devices"
   ]
  },
  {
   "cell_type": "code",
   "execution_count": 14,
   "id": "b7508612",
   "metadata": {},
   "outputs": [
    {
     "name": "stdout",
     "output_type": "stream",
     "text": [
      "acA1440-220uc 40050584\n",
      "acA1440-220uc 40052729\n",
      "acA1440-220uc 40225178\n",
      "acA1440-220uc 40458366\n"
     ]
    }
   ],
   "source": [
    "for d in devices: \n",
    "    print(d.GetModelName(), d.GetSerialNumber())"
   ]
  },
  {
   "cell_type": "code",
   "execution_count": 15,
   "id": "6632b57c",
   "metadata": {},
   "outputs": [],
   "source": [
    "cam = py.InstantCamera(tlf.CreateDevice(devices[0])) # Creates device that is the first element in the list above"
   ]
  },
  {
   "cell_type": "code",
   "execution_count": null,
   "id": "cab61420",
   "metadata": {},
   "outputs": [],
   "source": [
    "cam.Open() #Connects camera to device you made and allows communication with camera "
   ]
  },
  {
   "cell_type": "code",
   "execution_count": 21,
   "id": "15fd4434",
   "metadata": {},
   "outputs": [],
   "source": [
    "cam.GainAuto.SetValue(\"Continuous\")"
   ]
  },
  {
   "cell_type": "code",
   "execution_count": null,
   "id": "43a09fda",
   "metadata": {},
   "outputs": [],
   "source": [
    "cam.TriggerSelector.SetValue(\"FrameStart\")\n",
    "cam.TriggerSource.SetValue(\"Line3\")"
   ]
  },
  {
   "cell_type": "code",
   "execution_count": 24,
   "id": "7a9e1e86",
   "metadata": {},
   "outputs": [],
   "source": [
    "# Load the default camera configuration (do towards beginning of script) \n",
    "cam.UserSetSelector.Value = \"Default\"\n",
    "cam.UserSetLoad.Execute()"
   ]
  },
  {
   "cell_type": "code",
   "execution_count": 25,
   "id": "efcf0232",
   "metadata": {},
   "outputs": [],
   "source": [
    "cam.Close()"
   ]
  }
 ],
 "metadata": {
  "kernelspec": {
   "display_name": "basler_env",
   "language": "python",
   "name": "python3"
  },
  "language_info": {
   "codemirror_mode": {
    "name": "ipython",
    "version": 3
   },
   "file_extension": ".py",
   "mimetype": "text/x-python",
   "name": "python",
   "nbconvert_exporter": "python",
   "pygments_lexer": "ipython3",
   "version": "3.10.16"
  }
 },
 "nbformat": 4,
 "nbformat_minor": 5
}
